{
 "cells": [
  {
   "cell_type": "code",
   "execution_count": null,
   "metadata": {},
   "outputs": [],
   "source": [
    "# -*- coding: utf-8 -*-\n",
    "\"\"\"\n",
    "Created on Thu Nov 21 12:20:48 2019\n",
    "\n",
    "@author: leandro modified by Raphael\n",
    "\"\"\"\n",
    "\n",
    "import numpy as np\n",
    "#import math\n",
    "\n",
    "#import rasterio.mask\n",
    "#import glob\n",
    "import os\n",
    "#from datetime import datetime\n",
    "#import pandas as pd\n",
    "#import xarray as xr\n",
    "\n",
    "import matplotlib.pyplot as plt\n",
    "#import gdal\n",
    "#import rasterio\n",
    "#import matplotlib.dates as mdates\n",
    "\n",
    "path_library = 'C:/Users/Raphael Casari/Desktop/Processamento-evapo' \n",
    "\n",
    "#path_library = 'C:/Users\\LeandroSalles/Documents/Doutorado/4 - Artigo ET Cerrado/' \n",
    "os.chdir(path_library)\n",
    "#from library import raster_stats as ras\n",
    "#from library import SSEBop_grid_pt_extract_e_gdal_c_factor_ndvi080_e_media as SSEBop\n",
    "#from library import SSEBop_grid_com_imagens as SSEBop\n",
    "import ETo_FAL as ETo_FAL_script  \n",
    "import rasterio_and_xarray_SSEBOp as raxa\n",
    "import gdal_and_xarray as gdal_xa\n",
    "#from library import GRID_meteorologico_SSEBop as MET\n",
    "#from library import Soil_moisture_layers_por_uso_solo as soil_moisture"
   ]
  },
  {
   "cell_type": "code",
   "execution_count": 5,
   "metadata": {},
   "outputs": [
    {
     "name": "stdout",
     "output_type": "stream",
     "text": [
      "4.535138896578838\n"
     ]
    }
   ],
   "source": [
    "path_met_FAL = 'C:/Users/Raphael Casari/Desktop/Processamento-evapo/Meteorologia'\n",
    "arquivo_met_FAL = 'Dados_meteorologicos_2019_atualizado.xlsx'\n",
    "planilha_met_FAL = 'Planilha1'\n",
    "\n",
    "dados_meteorologicos = ETo_FAL_script.estacao_FAL(path_met_FAL,arquivo_met_FAL,planilha_met_FAL)\n",
    "\n",
    "Tmax_C = dados_meteorologicos['Tmax'].loc['2019-08-21']\n",
    "Tmax_K = dados_meteorologicos['Tmax_K'].loc['2019-08-21']\n",
    "dT = dados_meteorologicos['dT_v2013'].loc['2019-08-21']\n",
    "dT_2018 = dados_meteorologicos['dT_v2018'].loc['2019-08-21']\n",
    "ETo = dados_meteorologicos['ETo'].loc['2019-08-21']\n",
    "\n",
    "print (ETo)"
   ]
  },
  {
   "cell_type": "code",
   "execution_count": 16,
   "metadata": {},
   "outputs": [
    {
     "name": "stderr",
     "output_type": "stream",
     "text": [
      "D:\\Anaconda3\\lib\\site-packages\\ipykernel_launcher.py:52: RuntimeWarning: invalid value encountered in greater_equal\n",
      "D:\\Anaconda3\\lib\\site-packages\\ipykernel_launcher.py:52: RuntimeWarning: invalid value encountered in less\n",
      "D:\\Anaconda3\\lib\\site-packages\\ipykernel_launcher.py:52: RuntimeWarning: invalid value encountered in greater\n",
      "D:\\Anaconda3\\lib\\site-packages\\ipykernel_launcher.py:52: RuntimeWarning: invalid value encountered in less_equal\n"
     ]
    },
    {
     "name": "stdout",
     "output_type": "stream",
     "text": [
      "0.9599232980426757\n",
      "parte4 - SSEBop 2013\n"
     ]
    },
    {
     "name": "stderr",
     "output_type": "stream",
     "text": [
      "D:\\Anaconda3\\lib\\site-packages\\ipykernel_launcher.py:99: RuntimeWarning: invalid value encountered in less\n",
      "D:\\Anaconda3\\lib\\site-packages\\ipykernel_launcher.py:100: RuntimeWarning: invalid value encountered in greater\n",
      "D:\\Anaconda3\\lib\\site-packages\\ipykernel_launcher.py:100: RuntimeWarning: invalid value encountered in less_equal\n",
      "D:\\Anaconda3\\lib\\site-packages\\ipykernel_launcher.py:101: RuntimeWarning: invalid value encountered in greater\n"
     ]
    },
    {
     "data": {
      "text/plain": [
       "'ETf_2019-08-21-Thermal.tif'"
      ]
     },
     "execution_count": 16,
     "metadata": {},
     "output_type": "execute_result"
    },
    {
     "data": {
      "image/png": "[encoded data removed]",
      "text/plain": [
       "<Figure size 432x288 with 1 Axes>"
      ]
     },
     "metadata": {
      "needs_background": "light"
     },
     "output_type": "display_data"
    }
   ],
   "source": [
    "path_ndvi = 'C:/Users/Raphael Casari/Desktop/Processamento-evapo/Images/NDVI'\n",
    "path_LST = 'C:/Users/Raphael Casari/Desktop/Processamento-evapo/Images/Thermal' \n",
    "\n",
    "os.chdir(path_ndvi)\n",
    "file_ndvi = '2019-08-21-NDVI.tif'\n",
    "ndvi_xa = raxa.rasterio_to_xarray(file_ndvi)  \n",
    "\n",
    "os.chdir(path_LST)\n",
    "file_LST = '2019-08-21-Thermal.tif' \n",
    "LST_Celsius = raxa.rasterio_to_xarray(file_LST)  \n",
    "LST_xa = LST_Celsius + 273.16\n",
    "\n",
    "suffix_ndvi = 'idxLST_' + file_ndvi[:-4]\n",
    "suffix_LST = 'idxLST_' + file_LST[:-4]\n",
    "\n",
    "###############\n",
    "\n",
    "# Transformar o index para o mesmo do LST\n",
    "\n",
    "ndvi_idxLST = ndvi_xa.reindex(latitude=LST_xa.latitude.values, longitude=LST_xa.longitude.values, method='nearest')\n",
    "    \n",
    "os.chdir(path_LST)\n",
    "NDV, xsize, ysize, GeoT, Projection, data = gdal_xa.GetTiffInfobyName(file_LST, ndvi_idxLST)\n",
    "os.chdir(path_ndvi)\n",
    "NDV  = np.nan\n",
    "gdal_xa.create_geotiff(suffix_ndvi, data, NDV, xsize, ysize, GeoT, Projection)\n",
    "    \n",
    "\n",
    "\n",
    "LST_idxNDVI = LST_xa.reindex(latitude=ndvi_xa.latitude.values, longitude=ndvi_xa.longitude.values, method='nearest')\n",
    "    \n",
    "os.chdir(path_ndvi)\n",
    "NDV, xsize, ysize, GeoT, Projection, data = gdal_xa.GetTiffInfobyName(file_ndvi, LST_idxNDVI)\n",
    "os.chdir(path_LST)\n",
    "NDV  = np.nan\n",
    "gdal_xa.create_geotiff(suffix_LST, data, NDV, xsize, ysize, GeoT, Projection)\n",
    "    \n",
    "\n",
    "\n",
    "ndvi = np.ma.masked_array(ndvi_idxLST, mask=ndvi_idxLST==NDV, fill_value = np.nan)\n",
    "LST = np.ma.masked_array(LST_xa, mask=LST_xa==NDV, fill_value = np.nan)\n",
    "\n",
    "\n",
    "\n",
    "#Tmax_K=Ta+273.16\n",
    "Tdiff=Tmax_K-LST\n",
    "Tcorr = LST/Tmax_K\n",
    "\n",
    "f=np.array([(ndvi), (LST), (Tdiff)])\n",
    "\n",
    "\n",
    "v=np.where((f[0,:,:] >= 0.8) & (f[0,:,:] <1) & (f[1,:,:] > 270) & (f[2,:,:] >= 0) & (f[2,:,:] <= 10))# & (f[3,:,:] == 676) & (f[3,:,:] == 680) & (f[3,:,:] == 684))\n",
    "\n",
    "#    Tsc = LST[v]\n",
    "#    Tsc = Tcorr[v]\n",
    "#    Tcorr = Tsc/Ta\n",
    "Tcorr2=Tcorr[v]\n",
    "\n",
    "\n",
    "import matplotlib.pyplot as plt\n",
    "\n",
    "# the histogram of the data\n",
    "n, bins, patches = plt.hist(Tcorr2, 50, density=True, facecolor='g', alpha=0.75)\n",
    "\n",
    "#n, bins, patches = plt.hist(Tcorr, 50, density=True, facecolor='g', alpha=0.75)\n",
    "\n",
    "\n",
    "\n",
    "\n",
    "\n",
    "\n",
    "media=np.mean(Tcorr2)\n",
    "std = np.std(Tcorr2)\n",
    "#c_2std = media-(2*std) \n",
    "c = media -(2*std) \n",
    "#del Tdiff, BQA_tif,Tcorr2 \n",
    "print(c) \n",
    "\n",
    "#print(c_2std) \n",
    "\n",
    "\n",
    "#################################\n",
    "K=1\n",
    "\n",
    "#################################\n",
    "### SSEBop -2013\n",
    "print('parte4 - SSEBop 2013')\n",
    "\n",
    "\"\"\"\n",
    "Thot e Tcold\n",
    "\"\"\"\n",
    "Tc = c*Tmax_K\n",
    "Th = Tc + dT\n",
    "\n",
    "\"\"\"\n",
    "Fração Evapotranspirativa\n",
    "\"\"\"\n",
    "ETf = (Th - LST)/dT\n",
    "ETf[ETf<0]= np.nan\n",
    "ETf[(ETf>1.05) & (ETf<=1.30)]= 1.05\n",
    "ETf[ETf>1.30]= np.nan    \n",
    "\n",
    "\"\"\"\n",
    "Evapotranspiração Real\n",
    "\"\"\"\n",
    " \n",
    "ETr = ETf * ETo * K\n",
    "#ETr_climatologia = ETf * ETo_climatologia * K\n",
    "#\n",
    "#ETr_os = ETf * ETo_os * K\n",
    "#ETr_os_climatologia = ETf * ETo_os_climatologia * K\n",
    "#\n",
    "#ETr_rs = ETf * ETo_rs * K\n",
    "#ETr_rs_climatologia = ETf * ETo_rs_climatologia * K\n",
    "#\n",
    "#\n",
    "#ndvi = np.ma.masked_array(ndvi_idxLST, mask=ndvi_idxLST==NDV, fill_value = np.nan)\n",
    "#LST = np.ma.masked_array(LST_xa, mask=LST_xa==NDV, fill_value = np.nan)\n",
    "\n",
    "\n",
    "os.chdir(path_LST)\n",
    "NDV, xsize, ysize, GeoT, Projection, data = gdal_xa.GetTiffInfobyName(file_LST, ETr)\n",
    "suffix_ETr = 'ETa_' + file_LST[:-4]\n",
    "suffix_ETf =  'ETf_' + file_LST[:-4]\n",
    "gdal_xa.create_geotiff(suffix_ETr, ETr, NDV, xsize, ysize, GeoT, Projection)\n",
    "gdal_xa.create_geotiff(suffix_ETf, ETf, NDV, xsize, ysize, GeoT, Projection)\n",
    "\n"
   ]
  },
  {
   "cell_type": "code",
   "execution_count": null,
   "metadata": {},
   "outputs": [],
   "source": []
  }
 ],
 "metadata": {
  "kernelspec": {
   "display_name": "Python 3",
   "language": "python",
   "name": "python3"
  },
  "language_info": {
   "codemirror_mode": {
    "name": "ipython",
    "version": 3
   },
   "file_extension": ".py",
   "mimetype": "text/x-python",
   "name": "python",
   "nbconvert_exporter": "python",
   "pygments_lexer": "ipython3",
   "version": "3.7.4"
  }
 },
 "nbformat": 4,
 "nbformat_minor": 2
}
